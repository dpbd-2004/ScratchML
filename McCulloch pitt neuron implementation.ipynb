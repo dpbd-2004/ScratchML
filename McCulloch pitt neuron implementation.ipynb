{
 "cells": [
  {
   "cell_type": "code",
   "execution_count": 2,
   "id": "7965eb14",
   "metadata": {},
   "outputs": [],
   "source": [
    "def MPN_AND(x1,x2):\n",
    "    w1 = 1\n",
    "    w2 = 1\n",
    "    thresold = 2\n",
    "    summ = w1 * x1 + w2 * x2\n",
    "    \n",
    "    if summ >= thresold:\n",
    "        return 1\n",
    "    else:\n",
    "        return 0"
   ]
  },
  {
   "cell_type": "code",
   "execution_count": 3,
   "id": "fb78539e",
   "metadata": {},
   "outputs": [
    {
     "data": {
      "text/plain": [
       "0"
      ]
     },
     "execution_count": 3,
     "metadata": {},
     "output_type": "execute_result"
    }
   ],
   "source": [
    "MPN_AND(0,1)"
   ]
  },
  {
   "cell_type": "code",
   "execution_count": 5,
   "id": "0e78eeda",
   "metadata": {},
   "outputs": [
    {
     "name": "stdout",
     "output_type": "stream",
     "text": [
      "Enter inputs (space separated 0s and 1s): 1 0 1 1 0\n",
      "Enter weights (space separated numbers): 2 1.9 3.4 5.6 7\n",
      "\n",
      "Inputs: [1, 0, 1, 1, 0]\n",
      "Weights: [2.0, 1.9, 3.4, 5.6, 7.0]\n",
      "Threshold: 19.9\n",
      "Output (Neuron fires?): 0\n"
     ]
    }
   ],
   "source": [
    "def mcCulloch_pitts_neuron(inputs, weights, threshold):\n",
    "    if len(inputs) != len(weights):\n",
    "        raise ValueError(\"Number of inputs and weights must be the same\")\n",
    "    \n",
    "    total_input = sum(i * w for i, w in zip(inputs, weights))\n",
    "    return 1 if total_input >= threshold else 0\n",
    "\n",
    "def main():\n",
    "    # Take inputs from user\n",
    "    inputs = list(map(int, input(\"Enter inputs (space separated 0s and 1s): \").split()))\n",
    "    weights = list(map(float, input(\"Enter weights (space separated numbers): \").split()))\n",
    "\n",
    "    if len(inputs) != len(weights):\n",
    "        print(\"Error: Number of inputs and weights must be the same.\")\n",
    "        return\n",
    "    \n",
    "    # For AND gate behavior, threshold = sum of weights\n",
    "    threshold = sum(weights)\n",
    "\n",
    "    output = mcCulloch_pitts_neuron(inputs, weights, threshold)\n",
    "\n",
    "    print(f\"\\nInputs: {inputs}\")\n",
    "    print(f\"Weights: {weights}\")\n",
    "    print(f\"Threshold: {threshold}\")\n",
    "    print(f\"Output (Neuron fires?): {output}\")\n",
    "\n",
    "if __name__ == \"__main__\":\n",
    "    main()\n"
   ]
  },
  {
   "cell_type": "code",
   "execution_count": 7,
   "id": "b55e8f84",
   "metadata": {},
   "outputs": [
    {
     "name": "stdout",
     "output_type": "stream",
     "text": [
      "Enter two inputs (0 or 1) separated by space: 1 0\n",
      "AND(1, 0) = 0\n",
      "OR(1, 0) = 1\n",
      "XOR(1, 0) = 1\n"
     ]
    }
   ],
   "source": [
    "def mcCulloch_pitts_neuron(inputs, weights, threshold):\n",
    "    if len(inputs) != len(weights):\n",
    "        raise ValueError(\"Number of inputs and weights must be the same\")\n",
    "    total_input = sum(i * w for i, w in zip(inputs, weights))\n",
    "    return 1 if total_input >= threshold else 0\n",
    "\n",
    "def AND_gate(inputs):\n",
    "    weights = [1] * len(inputs)\n",
    "    threshold = sum(weights)\n",
    "    return mcCulloch_pitts_neuron(inputs, weights, threshold)\n",
    "\n",
    "def OR_gate(inputs):\n",
    "    weights = [1] * len(inputs)\n",
    "    threshold = 1\n",
    "    return mcCulloch_pitts_neuron(inputs, weights, threshold)\n",
    "\n",
    "def NOT_gate(x):\n",
    "    # NOT gate with input x, output 1 if x=0 else 0\n",
    "    # weights = [-1], threshold = 0\n",
    "    return mcCulloch_pitts_neuron([x], [-1], 0)\n",
    "\n",
    "def XOR_gate(a, b):\n",
    "    # XOR = (A AND NOT B) OR (NOT A AND B)\n",
    "    A_and_not_B = AND_gate([a, NOT_gate(b)])\n",
    "    not_A_and_B = AND_gate([NOT_gate(a), b])\n",
    "    return OR_gate([A_and_not_B, not_A_and_B])\n",
    "\n",
    "def main():\n",
    "    # Get inputs\n",
    "    inputs = list(map(int, input(\"Enter two inputs (0 or 1) separated by space: \").split()))\n",
    "    if len(inputs) != 2 or any(i not in (0,1) for i in inputs):\n",
    "        print(\"Please enter exactly two binary inputs (0 or 1).\")\n",
    "        return\n",
    "    \n",
    "    a, b = inputs\n",
    "\n",
    "    print(f\"AND({a}, {b}) = {AND_gate(inputs)}\")\n",
    "    print(f\"OR({a}, {b}) = {OR_gate(inputs)}\")\n",
    "    print(f\"XOR({a}, {b}) = {XOR_gate(a, b)}\")\n",
    "\n",
    "if __name__ == \"__main__\":\n",
    "    main()\n"
   ]
  },
  {
   "cell_type": "code",
   "execution_count": null,
   "id": "75110196",
   "metadata": {},
   "outputs": [],
   "source": []
  }
 ],
 "metadata": {
  "kernelspec": {
   "display_name": "Python 3 (ipykernel)",
   "language": "python",
   "name": "python3"
  },
  "language_info": {
   "codemirror_mode": {
    "name": "ipython",
    "version": 3
   },
   "file_extension": ".py",
   "mimetype": "text/x-python",
   "name": "python",
   "nbconvert_exporter": "python",
   "pygments_lexer": "ipython3",
   "version": "3.11.5"
  }
 },
 "nbformat": 4,
 "nbformat_minor": 5
}
